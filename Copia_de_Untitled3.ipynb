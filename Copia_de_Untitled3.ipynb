{
  "nbformat": 4,
  "nbformat_minor": 0,
  "metadata": {
    "colab": {
      "name": "Copia de Untitled3.ipynb",
      "provenance": [],
      "authorship_tag": "ABX9TyNWgy+JKX9lZb6N1dy5zYRT",
      "include_colab_link": true
    },
    "kernelspec": {
      "name": "python3",
      "display_name": "Python 3"
    },
    "language_info": {
      "name": "python"
    }
  },
  "cells": [
    {
      "cell_type": "markdown",
      "metadata": {
        "id": "view-in-github",
        "colab_type": "text"
      },
      "source": [
        "<a href=\"https://colab.research.google.com/github/Lanuri06/Estructura_de_Datos/blob/main/Copia_de_Untitled3.ipynb\" target=\"_parent\"><img src=\"https://colab.research.google.com/assets/colab-badge.svg\" alt=\"Open In Colab\"/></a>"
      ]
    },
    {
      "cell_type": "code",
      "metadata": {
        "id": "Y3UrKgLN0Eo4"
      },
      "source": [
        "class Array:\n",
        "    def __init__( self, tam ):\n",
        "      self.__tamanio = tam\n",
        "      self.__data = [ 0 for x in range(self.__tamanio) ]\n",
        "\n",
        "    def to_string( self ): \n",
        "      indo = \" \"\n",
        "      for dato in self.__data:\n",
        "          info = info + str(dato) +\" \"\n",
        "      return info\n",
        "\n",
        "    def get_item(self , index):\n",
        "        return self.__data[index]\n",
        "\n",
        "    def get_length( self ):\n",
        "        return len( self.__data )    \n",
        "\n",
        "    def set_item( self , dato , index):\n",
        "      #Hace falta revisar limites\n",
        "      if index >= 0 and index < self.get_length():\n",
        "        self.__data[index] = dato\n",
        "      else:\n",
        "        print(\"Error: indice fuera de rango\")  \n",
        "\n",
        "    def clear( self , dato ):\n",
        "      self.__data = [ dato for x in range(self.__tamanio) ]    \n",
        "\n",
        "\n",
        "ejemplo = Array(20)     \n",
        "print( ejemplo.to_string() ) \n",
        "print( ejemplo.get_item(2) )\n",
        "ejemplo.set_item( 45 , 22 )\n",
        "print( ejemplo.to_string() )"
      ],
      "execution_count": null,
      "outputs": []
    },
    {
      "cell_type": "code",
      "metadata": {
        "colab": {
          "base_uri": "https://localhost:8080/"
        },
        "id": "u1lNtcy-gisV",
        "outputId": "73ac7d68-76d0-441c-e4f5-be467ed3d5a2"
      },
      "source": [
        "lista = [ 3 * x for x in range(10)]\n",
        "print(lista)"
      ],
      "execution_count": null,
      "outputs": [
        {
          "output_type": "stream",
          "name": "stdout",
          "text": [
            "[0, 3, 6, 9, 12, 15, 18, 21, 24, 27]\n"
          ]
        }
      ]
    },
    {
      "cell_type": "markdown",
      "metadata": {
        "id": "rokJckgZlTPG"
      },
      "source": [
        "La carpeta de datos es volátil"
      ]
    },
    {
      "cell_type": "code",
      "metadata": {
        "colab": {
          "base_uri": "https://localhost:8080/"
        },
        "id": "TxMd3pjZlrCa",
        "outputId": "7678a4d4-054d-4a8a-9ec3-9cd62ab4e489"
      },
      "source": [
        "!cat junio.dat"
      ],
      "execution_count": null,
      "outputs": [
        {
          "output_type": "stream",
          "name": "stdout",
          "text": [
            "numero de trabajador, nombres, paterno, materno, horas extra, sueldo base, año de ingreso\r\n",
            "2345,CARLOS,PEREZ,CASTILLO,0,9850,2017\r\n",
            "5754,ANGEL,GOMEZ,GARRIDO,1,9850,2020\r\n",
            "5345,JESUS,MARTIN,SANTOS,2,9850,2016\r\n",
            "3267,DAVID,JIMENEZ,LOZANO,2,9850,2017\r\n",
            "8765,PEDRO,RUIZ,GUERRERO,2,9850,2017\r\n",
            "5454,DANIEL,HERNANDEZ,CANO,3,9850,2018\r\n",
            "3456,ALEJANDRO,DIAZ,PRIETO,2,9850,2018\r\n",
            "3445,MARIA,MORENO,MENDEZ,1,9850,2018\r\n",
            "9088,ALBERTO,MU�OZ,CRUZ,1,9850,2017\r\n",
            "8877,RAFAEL,ALVAREZ,FLORES,2,9850,2017\r\n",
            "6767,FERNANDO,ROMERO,HERRERA,4,9850,2019\r\n",
            "5654,PABLO,ALONSO,GALLEGO,1,9850,2019\r\n",
            "4323,JORGE,GUTIERREZ,MARQUEZ,2,9850,2020\r\n",
            "2232,RAMON,NAVARRO,LEON,1,9850,2016"
          ]
        }
      ]
    },
    {
      "cell_type": "code",
      "metadata": {
        "colab": {
          "base_uri": "https://localhost:8080/"
        },
        "id": "EQbXgbKQm7js",
        "outputId": "b068dba6-4e14-4eff-d5b3-8415695ad304"
      },
      "source": [
        "archivo= open('junio.dat', 'rt', encoding= 'latin-1' )\n",
        "print(archivo.read()) "
      ],
      "execution_count": null,
      "outputs": [
        {
          "output_type": "stream",
          "name": "stdout",
          "text": [
            "numero de trabajador, nombres, paterno, materno, horas extra, sueldo base, aÃ±o de ingreso\n",
            "2345,CARLOS,PEREZ,CASTILLO,0,9850,2017\n",
            "5754,ANGEL,GOMEZ,GARRIDO,1,9850,2020\n",
            "5345,JESUS,MARTIN,SANTOS,2,9850,2016\n",
            "3267,DAVID,JIMENEZ,LOZANO,2,9850,2017\n",
            "8765,PEDRO,RUIZ,GUERRERO,2,9850,2017\n",
            "5454,DANIEL,HERNANDEZ,CANO,3,9850,2018\n",
            "3456,ALEJANDRO,DIAZ,PRIETO,2,9850,2018\n",
            "3445,MARIA,MORENO,MENDEZ,1,9850,2018\n",
            "9088,ALBERTO,MUOZ,CRUZ,1,9850,2017\n",
            "8877,RAFAEL,ALVAREZ,FLORES,2,9850,2017\n",
            "6767,FERNANDO,ROMERO,HERRERA,4,9850,2019\n",
            "5654,PABLO,ALONSO,GALLEGO,1,9850,2019\n",
            "4323,JORGE,GUTIERREZ,MARQUEZ,2,9850,2020\n",
            "2232,RAMON,NAVARRO,LEON,1,9850,2016\n"
          ]
        }
      ]
    },
    {
      "cell_type": "code",
      "metadata": {
        "id": "Xv7NpmMXn38m"
      },
      "source": [
        "class Trabajador:\n",
        "    def __init__( self , nt, nom, pat , mat, he , sb , ai ):\n",
        "        self.__numero_trabajador= nt \n",
        "        # asi para todos los atributos\n",
        "\n",
        "    #aquí van todos los métodos de acceso    \n",
        "    def set_numero_trabajador( self, nt)\n",
        "        self.__numero_trabajador = nt \n",
        "\n",
        "\n",
        "\n",
        "    \n",
        "\n",
        "\n",
        "\n",
        "   \n"
      ],
      "execution_count": null,
      "outputs": []
    },
    {
      "cell_type": "code",
      "metadata": {
        "id": "_55XOT5vqAum"
      },
      "source": [
        "class NominaADT:\n",
        "  def __init__(self, ruta_archivo ):\n",
        "    # abrir el archivo y determinar el numero de empleados --- num_emp\n",
        "    self.__data = Array( num_emp )\n",
        "\n",
        "  def calcular_sueldos( self ):\n",
        "    #iterar sobre el array\n",
        "\n",
        "  def buscar_mas_antiguo( self ):\n",
        "    #iterar y buscará en el array el mayor antiguedad\n",
        "\n",
        "  def buscar_menor_antiguedad( self):\n",
        "    #iterar y buscará en el array el menor antiguedad    \n"
      ],
      "execution_count": null,
      "outputs": []
    }
  ]
}