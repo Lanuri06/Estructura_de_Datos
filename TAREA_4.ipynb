{
  "nbformat": 4,
  "nbformat_minor": 0,
  "metadata": {
    "colab": {
      "name": "TAREA_4.ipynb",
      "provenance": [],
      "authorship_tag": "ABX9TyPaEO7y9+/NdagjarXHDTgE",
      "include_colab_link": true
    },
    "kernelspec": {
      "name": "python3",
      "display_name": "Python 3"
    },
    "language_info": {
      "name": "python"
    }
  },
  "cells": [
    {
      "cell_type": "markdown",
      "metadata": {
        "id": "view-in-github",
        "colab_type": "text"
      },
      "source": [
        "<a href=\"https://colab.research.google.com/github/Lanuri06/Estructura_de_Datos/blob/main/TAREA_4.ipynb\" target=\"_parent\"><img src=\"https://colab.research.google.com/assets/colab-badge.svg\" alt=\"Open In Colab\"/></a>"
      ]
    },
    {
      "cell_type": "code",
      "metadata": {
        "colab": {
          "base_uri": "https://localhost:8080/"
        },
        "id": "RCED0ACCtoto",
        "outputId": "f51dcd61-8a7b-4609-bde7-5d83382192de"
      },
      "source": [
        "import math\n",
        "\n",
        "print(\" Programa ecuación de segundo grado: \")\n",
        "print()\n",
        "print(\" Por medio de la Formula General \")\n",
        "print()\n",
        "\n",
        "#Coeficientes\n",
        "a, b, c = [float(input(f' Coeficiente de {coef}: ')) for coef in ('a', 'b', 'c')]\n",
        "\n",
        "#Calculo del determinante\n",
        "discriminante = b * b - 4 * a * c\n",
        "\n",
        "if discriminante < 0: #Comprobacion de existencia de soluciones reales\n",
        "    print(f'No existe solución.')\n",
        "\n",
        "else:\n",
        "    raiz = math.sqrt(discriminante)\n",
        "    x_1 = (-b + raiz) / (2 * a)\n",
        "    if discriminante !=0:\n",
        "        x_2 = (-b - raiz) / (2 * a)\n",
        "        print(f'Las soluciones son {x_1} y {x_2}.')\n",
        "    else:\n",
        "        print(f'La solución es x = {x_1}')"
      ],
      "execution_count": null,
      "outputs": [
        {
          "output_type": "stream",
          "name": "stdout",
          "text": [
            " Programa ecuación de segundo grado: \n",
            "\n",
            " Por medio de la Formula General \n",
            "\n",
            " Coeficiente de a: 7\n",
            " Coeficiente de b: 34\n",
            " Coeficiente de c: 12\n",
            "Las soluciones son -0.3831684195319495 y -4.473974437610908.\n"
          ]
        }
      ]
    }
  ]
}