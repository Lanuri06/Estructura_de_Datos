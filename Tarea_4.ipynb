{
  "nbformat": 4,
  "nbformat_minor": 0,
  "metadata": {
    "colab": {
      "name": "Tarea_4.ipynb",
      "provenance": [],
      "authorship_tag": "ABX9TyN66XAK0eYmDfaEYO8esIDj",
      "include_colab_link": true
    },
    "kernelspec": {
      "name": "python3",
      "display_name": "Python 3"
    },
    "language_info": {
      "name": "python"
    }
  },
  "cells": [
    {
      "cell_type": "markdown",
      "metadata": {
        "id": "view-in-github",
        "colab_type": "text"
      },
      "source": [
        "<a href=\"https://colab.research.google.com/github/Lanuri06/Estructura_de_Datos/blob/main/Tarea_4.ipynb\" target=\"_parent\"><img src=\"https://colab.research.google.com/assets/colab-badge.svg\" alt=\"Open In Colab\"/></a>"
      ]
    },
    {
      "cell_type": "code",
      "metadata": {
        "colab": {
          "base_uri": "https://localhost:8080/"
        },
        "id": "WxwDH3DQ8HWp",
        "outputId": "c2b037ad-310d-467a-f555-bb99406ddc83"
      },
      "source": [
        "print(\"Detalle:\")\n",
        "\n",
        "menu_select = ['mesa=3','comensal=2','entrada','=\"Ensalada verde\"','medio=','\"crema de zanahoria\"','fuerte=','\"filete\"', 'adicionales=','\"Filete término medio la ensalada sin ningun tipo de semilla, Adereso Ranch\"']\n",
        "espacio =  '\\t'\n",
        "#Ubicacion de los elementos dentro del arreglo\n",
        "mesa = menu_select[0].upper()\n",
        "com = menu_select[1].upper()\n",
        "entrada = menu_select[2].upper()\n",
        "enta = menu_select[3]\n",
        "medio = menu_select[4].upper()\n",
        "med = menu_select[5]\n",
        "fuert = menu_select[6].upper()\n",
        "fuer = menu_select[7]\n",
        "adici = menu_select[8].upper()\n",
        "pladi = menu_select[9]\n",
        "\n",
        "\n",
        "#Muestra datos eswpecificos ya modificados del arreglo\n",
        "print(espacio , mesa)\n",
        "print(espacio,com)\n",
        "print(espacio,entrada,enta)\n",
        "print(espacio , medio,med)\n",
        "print(espacio,fuert,fuer)\n",
        "print(espacio,adici,pladi)"
      ],
      "execution_count": 1,
      "outputs": [
        {
          "output_type": "stream",
          "name": "stdout",
          "text": [
            "Detalle:\n",
            "\t MESA=3\n",
            "\t COMENSAL=2\n",
            "\t ENTRADA =\"Ensalada verde\"\n",
            "\t MEDIO= \"crema de zanahoria\"\n",
            "\t FUERTE= \"filete\"\n",
            "\t ADICIONALES= \"Filete término medio la ensalada sin ningun tipo de semilla, Adereso Ranch\"\n"
          ]
        }
      ]
    }
  ]
}