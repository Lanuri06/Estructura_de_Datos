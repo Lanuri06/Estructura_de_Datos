{
  "nbformat": 4,
  "nbformat_minor": 0,
  "metadata": {
    "colab": {
      "name": "Repaso_1310.ipynb",
      "provenance": [],
      "authorship_tag": "ABX9TyOb8MdE6iWPe6tWpaTGxf7f",
      "include_colab_link": true
    },
    "kernelspec": {
      "name": "python3",
      "display_name": "Python 3"
    },
    "language_info": {
      "name": "python"
    }
  },
  "cells": [
    {
      "cell_type": "markdown",
      "metadata": {
        "id": "view-in-github",
        "colab_type": "text"
      },
      "source": [
        "<a href=\"https://colab.research.google.com/github/Lanuri06/Estructura_de_Datos/blob/main/Repaso_1310.ipynb\" target=\"_parent\"><img src=\"https://colab.research.google.com/assets/colab-badge.svg\" alt=\"Open In Colab\"/></a>"
      ]
    },
    {
      "cell_type": "markdown",
      "metadata": {
        "id": "acwOQgb0xk3z"
      },
      "source": [
        "# Repaso de Programación Python 3\n",
        "\n",
        "La función print\n",
        "\n",
        "1 Utilizando comillas dobles o simples\n",
        "2 Utilizando cel signo \",\"\n",
        "3 Utilizando \"+\"\n",
        "4 Utilizando la funcion format\n",
        "El operador f''"
      ]
    },
    {
      "cell_type": "code",
      "metadata": {
        "colab": {
          "base_uri": "https://localhost:8080/"
        },
        "id": "cbyAKRoLx4js",
        "outputId": "e209a5d9-45c9-45c0-c544-0258339cb0d6"
      },
      "source": [
        "print('Hola mundo')\n",
        "print(\"Hola mundo\")\n",
        "nombre= \"Alan\"\n",
        "carrera = \"Ingeniería en computación\"\n",
        "print(nombre)\n",
        "\n",
        "print(\"Hola \" , nombre )\n",
        "print(\"Hola \" + nombre )\n",
        "\n",
        "print(\"Tu nombre es \" , nombre , \" y estudiaste\" , carrera )\n",
        "\n",
        "#Con Format\n",
        "\n",
        "print(\"Tu nombre es {1}  y estudiaste {0} \".format(nombre , carrera) )\n",
        "\n",
        "#Con el operador f\n",
        "print(f'Tu nombre es {nombre} y estudiaste {carrera} ')\n",
        "\n",
        "#Salto de linea al final\n",
        "print(nombre, end=\"\") #\\n\n",
        "print(\" \", end=\"\")\n",
        "print(carrera, end=\"\")"
      ],
      "execution_count": 5,
      "outputs": [
        {
          "output_type": "stream",
          "name": "stdout",
          "text": [
            "Hola mundo\n",
            "Hola mundo\n",
            "Alan\n",
            "Hola  Alan\n",
            "Hola Alan\n",
            "Tu nombre es  Alan  y estudiaste Ingeniería en computación\n",
            "Tu nombre es Ingeniería en computación  y estudiaste Alan \n",
            "Tu nombre es Alan y estudiaste Ingeniería en computación \n",
            "Alan Ingeniería en computación"
          ]
        }
      ]
    },
    {
      "cell_type": "markdown",
      "metadata": {
        "id": "q1R1pfukyME1"
      },
      "source": [
        "# Entrada de Datos \n",
        "\n",
        "Función input()\n",
        "Sirve para pedir al usuario, equivalente al scanf del leng \"C\" o a la clase Scanner de Java siempre regresa un String"
      ]
    },
    {
      "cell_type": "code",
      "metadata": {
        "colab": {
          "base_uri": "https://localhost:8080/"
        },
        "id": "YP5BomeNyV3V",
        "outputId": "ac18cd2f-dda4-4d1b-d294-cf12c4be5fb3"
      },
      "source": [
        "nombre = input(\"Introduce tu nombre\")\n",
        "print (nombre)\n",
        "\n",
        "semestre = input(\"En que semestre estás: \")\n",
        "print(semestre)\n",
        "semestre = int(semestre) + 1 #Se convierte en entero\n",
        "print(semestre)\n",
        "semestre = semestre + 1\n",
        "print(semestre)\n",
        "\n",
        "semestre = int( input(\"Cual es tu semestre: \"))\n",
        "semestre= semestre + 1\n",
        "print(semestre)"
      ],
      "execution_count": 8,
      "outputs": [
        {
          "output_type": "stream",
          "name": "stdout",
          "text": [
            "Introduce tu nombreAlan\n",
            "Alan\n",
            "En que semestre estás: 3\n",
            "3\n",
            "4\n",
            "5\n",
            "Cual es tu semestre: 4\n",
            "5\n"
          ]
        }
      ]
    },
    {
      "cell_type": "markdown",
      "metadata": {
        "id": "vbakVVzNyuBW"
      },
      "source": [
        "# Repaso del tipo de dato String\n",
        "Es un tipo de dato muy versatil. Los tipos de datos en Python en realidaad son objetos (POO), es decir tiene atributos y métodos. Los valores internos de un String se almacenan como un arreglo. Es decir se accede a los elementos con el operador [indice]"
      ]
    },
    {
      "cell_type": "code",
      "metadata": {
        "colab": {
          "base_uri": "https://localhost:8080/"
        },
        "id": "HUXV-lgby28x",
        "outputId": "b1e20a99-bdd3-45db-96fd-644ae6cb177d"
      },
      "source": [
        "frase = \"El conocimiento me persigue... pero yo soy más rápido!!+\"\n",
        "#Como se almacena la información\n",
        "print(frase[ 3 ])\n",
        "print( len( frase ) ) #len lee cuantos caractere hay\n",
        "print( frase[55] )\n",
        "print(frase[-8])\n",
        "\n",
        "#Iterar sobre un String\n",
        "for letra in frase: #Separa las letras\n",
        "  print(letra)\n",
        "print(\"fin\")"
      ],
      "execution_count": 9,
      "outputs": [
        {
          "output_type": "stream",
          "name": "stdout",
          "text": [
            "c\n",
            "56\n",
            "+\n",
            "á\n",
            "E\n",
            "l\n",
            " \n",
            "c\n",
            "o\n",
            "n\n",
            "o\n",
            "c\n",
            "i\n",
            "m\n",
            "i\n",
            "e\n",
            "n\n",
            "t\n",
            "o\n",
            " \n",
            "m\n",
            "e\n",
            " \n",
            "p\n",
            "e\n",
            "r\n",
            "s\n",
            "i\n",
            "g\n",
            "u\n",
            "e\n",
            ".\n",
            ".\n",
            ".\n",
            " \n",
            "p\n",
            "e\n",
            "r\n",
            "o\n",
            " \n",
            "y\n",
            "o\n",
            " \n",
            "s\n",
            "o\n",
            "y\n",
            " \n",
            "m\n",
            "á\n",
            "s\n",
            " \n",
            "r\n",
            "á\n",
            "p\n",
            "i\n",
            "d\n",
            "o\n",
            "!\n",
            "!\n",
            "+\n",
            "fin\n"
          ]
        }
      ]
    },
    {
      "cell_type": "markdown",
      "metadata": {
        "id": "xF3G_tJcy_3B"
      },
      "source": [
        "# Slicing (Rebanado)\n",
        "Es posible seleccionar argumentos de una lista (str) por medio de la sintaxis [ <Inicio> : <Tope> <Incremento> ] Por defecto:\n",
        "\n",
        "1. Inicio = 0\n",
        "2. Tope = tamaño de la lista (str) No incluye el tope, -0\n",
        "3. Incremento = 1"
      ]
    },
    {
      "cell_type": "code",
      "metadata": {
        "colab": {
          "base_uri": "https://localhost:8080/"
        },
        "id": "APw8U2MnzM-P",
        "outputId": "f1064b32-7e7f-4865-f6d7-a6e6a79b8784"
      },
      "source": [
        "nombre= \"Facultad de Estudios Superiores Aragón\"\n",
        "print( nombre[0] )\n",
        "print( nombre[1] )\n",
        "#Slicing\n",
        "print( nombre[ 2: 5 : 1])\n",
        "print( nombre[ 0: 8: 1])\n",
        "\n",
        "#Slicing con indexado negativo (-)\n",
        "print( nombre[-6: 0 : 1])\n",
        "#Incremento negativo\n",
        "print( nombre[ 7:  : -1 ])\n"
      ],
      "execution_count": 10,
      "outputs": [
        {
          "output_type": "stream",
          "name": "stdout",
          "text": [
            "F\n",
            "a\n",
            "cul\n",
            "Facultad\n",
            "\n",
            "datlucaF\n"
          ]
        }
      ]
    },
    {
      "cell_type": "markdown",
      "metadata": {
        "id": "ZknPzL0QzSL4"
      },
      "source": [
        "# String como objeto\n",
        "El tipo de dato string es una clase por lo tanto tiene atributos y métodos\n",
        "\n",
        "**Ayuda en línea de Python**\n",
        "Hay dos funciones que te dan ayuda en python\n",
        "\n",
        "Dir()\n",
        "help()"
      ]
    },
    {
      "cell_type": "code",
      "metadata": {
        "colab": {
          "base_uri": "https://localhost:8080/"
        },
        "id": "MXqVxpqazhn5",
        "outputId": "7aacbb12-2bd8-4b84-d725-55f228e15b19"
      },
      "source": [
        "dir(str)"
      ],
      "execution_count": 11,
      "outputs": [
        {
          "output_type": "execute_result",
          "data": {
            "text/plain": [
              "['__add__',\n",
              " '__class__',\n",
              " '__contains__',\n",
              " '__delattr__',\n",
              " '__dir__',\n",
              " '__doc__',\n",
              " '__eq__',\n",
              " '__format__',\n",
              " '__ge__',\n",
              " '__getattribute__',\n",
              " '__getitem__',\n",
              " '__getnewargs__',\n",
              " '__gt__',\n",
              " '__hash__',\n",
              " '__init__',\n",
              " '__init_subclass__',\n",
              " '__iter__',\n",
              " '__le__',\n",
              " '__len__',\n",
              " '__lt__',\n",
              " '__mod__',\n",
              " '__mul__',\n",
              " '__ne__',\n",
              " '__new__',\n",
              " '__reduce__',\n",
              " '__reduce_ex__',\n",
              " '__repr__',\n",
              " '__rmod__',\n",
              " '__rmul__',\n",
              " '__setattr__',\n",
              " '__sizeof__',\n",
              " '__str__',\n",
              " '__subclasshook__',\n",
              " 'capitalize',\n",
              " 'casefold',\n",
              " 'center',\n",
              " 'count',\n",
              " 'encode',\n",
              " 'endswith',\n",
              " 'expandtabs',\n",
              " 'find',\n",
              " 'format',\n",
              " 'format_map',\n",
              " 'index',\n",
              " 'isalnum',\n",
              " 'isalpha',\n",
              " 'isascii',\n",
              " 'isdecimal',\n",
              " 'isdigit',\n",
              " 'isidentifier',\n",
              " 'islower',\n",
              " 'isnumeric',\n",
              " 'isprintable',\n",
              " 'isspace',\n",
              " 'istitle',\n",
              " 'isupper',\n",
              " 'join',\n",
              " 'ljust',\n",
              " 'lower',\n",
              " 'lstrip',\n",
              " 'maketrans',\n",
              " 'partition',\n",
              " 'replace',\n",
              " 'rfind',\n",
              " 'rindex',\n",
              " 'rjust',\n",
              " 'rpartition',\n",
              " 'rsplit',\n",
              " 'rstrip',\n",
              " 'split',\n",
              " 'splitlines',\n",
              " 'startswith',\n",
              " 'strip',\n",
              " 'swapcase',\n",
              " 'title',\n",
              " 'translate',\n",
              " 'upper',\n",
              " 'zfill']"
            ]
          },
          "metadata": {},
          "execution_count": 11
        }
      ]
    },
    {
      "cell_type": "code",
      "metadata": {
        "colab": {
          "base_uri": "https://localhost:8080/"
        },
        "id": "X6eKy4juzjwh",
        "outputId": "f30d011b-d046-47f0-c50b-1c961b3edda5"
      },
      "source": [
        "\n",
        "apellidos = \"Martínez Sánchez\"\n",
        "print( apellidos.capitalize() )\n",
        "print( apellidos.title)\n",
        "print( apellidos.find(\"a\"))\n",
        "print( \"Pérez Lopez\".lower() )\n",
        "print( apellidos.upper() )\n",
        "\n",
        "\n",
        "numeros = \"        1 ,       2   ,      3       ,4,5,6      \"\n",
        "num_divididos = numeros.strip().split(',')\n",
        "print( num_divididos)\n",
        "\n",
        "num_divididos[0] = num_divididos[0].strip()\n",
        "num_divididos[1] = num_divididos[1].strip()\n",
        "num_divididos[2] = num_divididos[2].strip()\n",
        "num_divididos[3] = num_divididos[3].strip()\n",
        "num_divididos[4] = num_divididos[4].strip()\n",
        "num_divididos[5] = num_divididos[5].strip()\n",
        "print( num_divididos )\n",
        "\n",
        "for elem in num_divididos:\n",
        "  print( elem )\n",
        "for index in range(6):\n",
        "  num_divididos[index] = num_divididos[index].strip()\n",
        "print( num_divididos )"
      ],
      "execution_count": 13,
      "outputs": [
        {
          "output_type": "stream",
          "name": "stdout",
          "text": [
            "Martínez sánchez\n",
            "<built-in method title of str object at 0x7f1a63e16f90>\n",
            "1\n",
            "pérez lopez\n",
            "MARTÍNEZ SÁNCHEZ\n",
            "['1 ', '       2   ', '      3       ', '4', '5', '6']\n",
            "['1', '2', '3', '4', '5', '6']\n",
            "1\n",
            "2\n",
            "3\n",
            "4\n",
            "5\n",
            "6\n",
            "['1', '2', '3', '4', '5', '6']\n"
          ]
        }
      ]
    },
    {
      "cell_type": "markdown",
      "metadata": {
        "id": "KPf6V7r4zvqY"
      },
      "source": [
        "# Estructuras de Control\n",
        "if\n",
        "if-else\n",
        "switch - case (En python se implementa con IF)\n",
        "for\n",
        "while y do_while"
      ]
    },
    {
      "cell_type": "code",
      "metadata": {
        "colab": {
          "base_uri": "https://localhost:8080/"
        },
        "id": "E9e3Knwxz1bk",
        "outputId": "ff14785d-6c27-4ce1-c1d0-954f22e0d706"
      },
      "source": [
        "#if\n",
        "a = 12\n",
        "b = 3\n",
        "c = 4\n",
        "print( a > b )\n",
        "\n",
        "if a > b :\n",
        "  print(\"Estamos en el IF\")\n",
        "  print(\"A es mayor que B\")\n",
        "print('Fin del programa')\n",
        "\n",
        "##########\n",
        "if c > a:\n",
        "  if c > b:\n",
        "    print('C es el mayor de los tres')\n",
        "\n",
        "if c > a and c > b:\n",
        "  print(\"C es el mayor de los tres\")\n",
        "\n",
        "#if else cual de las tres variables es mayor \n",
        "if a > b :\n",
        "  if a > c:\n",
        "    print(\"A es la mayor\")\n",
        "  else: \n",
        "    print(\"C es la mayor\")\n",
        "else: \n",
        "  if b > c:\n",
        "    print('B es la mayor')\n",
        "  else:\n",
        "    print(\"C es la mayor\")\n",
        "\n",
        "#if - else (elif) tiene una notacion especial cuando se encadena\n",
        "\n",
        "if a > b :\n",
        "  if a > c:\n",
        "    print(\"A es la mayor\")\n",
        "  else: \n",
        "    print(\"C es la mayor\")\n",
        "elif b > c:\n",
        "    print('B es la mayor')\n",
        "else:\n",
        "    print(\"C es la mayor\")\n",
        "\n",
        "#Pedir al usuario que meta un numero entre el 1 y el 7 y poner que día de la semana es\n",
        "opcion= int(input(\"Introduce un numero entre 1 y 7: \"))\n",
        "if opcion > 0 and opcion < 8 :\n",
        "  if opcion == 1:\n",
        "    print(\"Lunes\")\n",
        "  elif opcion == 2:\n",
        "    print(\"Martes\")\n",
        "  elif opcion == 3:\n",
        "    print(\"Miercoles\")\n",
        "  elif opcion == 4:\n",
        "    print(\"Jueves\")\n",
        "  elif opcion == 5:\n",
        "    print(\"Viernes\")\n",
        "  elif opcion == 6:\n",
        "    print(\"Sábado\")\n",
        "  elif opcion == 7:\n",
        "    print(\"Domingo\")\n",
        "  \n",
        "else: \n",
        "  print(\"Tu dato esta fuera de lo solicitado\")"
      ],
      "execution_count": 14,
      "outputs": [
        {
          "output_type": "stream",
          "name": "stdout",
          "text": [
            "True\n",
            "Estamos en el IF\n",
            "A es mayor que B\n",
            "Fin del programa\n",
            "A es la mayor\n",
            "A es la mayor\n",
            "Introduce un numero entre 1 y 7: 5\n",
            "Viernes\n"
          ]
        }
      ]
    },
    {
      "cell_type": "code",
      "metadata": {
        "colab": {
          "base_uri": "https://localhost:8080/"
        },
        "id": "9q-SdvpFz_Wc",
        "outputId": "785c02d4-cb5e-4368-b27d-d0c5f95f8da4"
      },
      "source": [
        "#For y range es una funcion que te proporciona un enumerado\n",
        "algo = range (4, 10, 2)\n",
        "\n",
        "frutas = [ 'Pera' , 'Manzana', 'Aguacate', 'Kiwi', 'Platano' ]\n",
        "nombre = \"santiago\"\n",
        "print(algo)\n",
        "\n",
        "for x in algo:  ## for(int x=4; x<10 ; x=x+2)\n",
        "  print( x )\n",
        "\n",
        "for index in range(0, 5, 1):\n",
        "  print(frutas[index])\n",
        "\n",
        "#For e iteradores \n",
        "for fruit in frutas:\n",
        "  print( fruit )\n",
        "\n",
        "for letra in nombre:\n",
        "  print(letra.upper())"
      ],
      "execution_count": 15,
      "outputs": [
        {
          "output_type": "stream",
          "name": "stdout",
          "text": [
            "range(4, 10, 2)\n",
            "4\n",
            "6\n",
            "8\n",
            "Pera\n",
            "Manzana\n",
            "Aguacate\n",
            "Kiwi\n",
            "Platano\n",
            "Pera\n",
            "Manzana\n",
            "Aguacate\n",
            "Kiwi\n",
            "Platano\n",
            "S\n",
            "A\n",
            "N\n",
            "T\n",
            "I\n",
            "A\n",
            "G\n",
            "O\n"
          ]
        }
      ]
    },
    {
      "cell_type": "code",
      "metadata": {
        "colab": {
          "base_uri": "https://localhost:8080/"
        },
        "id": "OWotQITy0D2p",
        "outputId": "42a0ff58-0a87-47d6-ba5a-70e1d1f11be2"
      },
      "source": [
        "# while\n",
        "#hacer un programa que imprima del 1 al 10\n",
        "control = 1\n",
        "while control <= 10:\n",
        "  print( control )\n",
        "  control += 1"
      ],
      "execution_count": 16,
      "outputs": [
        {
          "output_type": "stream",
          "name": "stdout",
          "text": [
            "1\n",
            "2\n",
            "3\n",
            "4\n",
            "5\n",
            "6\n",
            "7\n",
            "8\n",
            "9\n",
            "10\n"
          ]
        }
      ]
    },
    {
      "cell_type": "markdown",
      "metadata": {
        "id": "KUlYmG130HBo"
      },
      "source": [
        "# Funciones\n",
        "Es un segmento de código que recibe, cero, o más valores de entrada, realiza unna o un conjunto de operaciones de forma interna y regresa un solo tipo de dato, aun que ese valor sea None(void)\n",
        "\n",
        "Las funciones se declaran con la palabra reservada def"
      ]
    },
    {
      "cell_type": "code",
      "metadata": {
        "colab": {
          "base_uri": "https://localhost:8080/"
        },
        "id": "kBS9TPqN0Nd6",
        "outputId": "9b9d102d-bc0b-430b-c5cd-ba3c9b9acb65"
      },
      "source": [
        "#funcion suma\n",
        "def suma( a, b):\n",
        "  c = 0\n",
        "  c = a + b\n",
        "  return c \n",
        "print( suma( 4 , 5 ))\n",
        "\n",
        "#funcion que salude personas\n",
        "\n",
        "def saludar( nombre ):\n",
        "  print(f' Hola {nombre}, ¿Cómo estas?')\n",
        "  return None\n",
        "saludar(\"Jesus\")\n",
        "nombre = \"Santiago\"\n",
        "saludar(nombre)\n",
        "\n",
        "res = saludar(nombre)\n",
        "print(res)"
      ],
      "execution_count": 17,
      "outputs": [
        {
          "output_type": "stream",
          "name": "stdout",
          "text": [
            "9\n",
            " Hola Jesus, ¿Cómo estas?\n",
            " Hola Santiago, ¿Cómo estas?\n",
            " Hola Santiago, ¿Cómo estas?\n",
            "None\n"
          ]
        }
      ]
    },
    {
      "cell_type": "markdown",
      "metadata": {
        "id": "fAIoYSfj0TdK"
      },
      "source": [
        "# Default y funciones\n",
        "Hay ocaciones que es necesario declarar valores por defecto en los argumentos de una función"
      ]
    },
    {
      "cell_type": "code",
      "metadata": {
        "colab": {
          "base_uri": "https://localhost:8080/"
        },
        "id": "LJcJz4990Qnf",
        "outputId": "7efd0480-cf18-40c6-929b-5916b4807219"
      },
      "source": [
        "def saludar( nombre, veces ):\n",
        "  for x in range( veces ):\n",
        "    print(f'{x}.- Hola { nombre } ')\n",
        "saludar( \"Juan\" , 3  )\n",
        "\n",
        "#Argumentos con llamadas no posicionales\n",
        "saludar( veces=6, nombre=\"Juan\" )"
      ],
      "execution_count": 20,
      "outputs": [
        {
          "output_type": "stream",
          "name": "stdout",
          "text": [
            "0.- Hola Juan \n",
            "1.- Hola Juan \n",
            "2.- Hola Juan \n",
            "0.- Hola Juan \n",
            "1.- Hola Juan \n",
            "2.- Hola Juan \n",
            "3.- Hola Juan \n",
            "4.- Hola Juan \n",
            "5.- Hola Juan \n"
          ]
        }
      ]
    },
    {
      "cell_type": "markdown",
      "metadata": {
        "id": "v8eb12Lp0hpX"
      },
      "source": [
        "# Listas, diccionarios, tuplas y sets\n",
        "# Listas\n",
        "Son estructuras de datos declaradas en Python, funcionan como arreglos en Java y C, con algunas diferencias.\n",
        "\n",
        "Usan el selector [ ]\n",
        "Estructura secuencial (0. . . n)\n",
        "Son mutables\n",
        "Puede contener valores de diferente tipo: [1, \"manzana\", True, 1.23]\n",
        "Pueden ser anidados (Multidimensional)\n",
        "Se crean usando [ ] y list()"
      ]
    },
    {
      "cell_type": "code",
      "metadata": {
        "colab": {
          "base_uri": "https://localhost:8080/"
        },
        "id": "qiupNeH70fDm",
        "outputId": "cc3116c7-c700-483d-a4f4-c1e5d2cb15be"
      },
      "source": [
        "frutas = [ \"pera\", \"lima\", \"Limón\", \"Kiwi\", \"manzana\" ]\n",
        "print(frutas)\n",
        "print( frutas[1] )\n",
        "frutas[1] = \"Mango\"\n",
        "print(frutas)\n",
        "persona  = [\"Jose\", 1.78, 19, False, 70.5, \"ICO\" ]\n",
        "print(persona) \n",
        "print(persona[-1])\n",
        "\n",
        "#Slicing\n",
        "numeros = [2,4,6,8,10,12,14,16,18,20]\n",
        "print(numeros[4:7])"
      ],
      "execution_count": 21,
      "outputs": [
        {
          "output_type": "stream",
          "name": "stdout",
          "text": [
            "['pera', 'lima', 'Limón', 'Kiwi', 'manzana']\n",
            "lima\n",
            "['pera', 'Mango', 'Limón', 'Kiwi', 'manzana']\n",
            "['Jose', 1.78, 19, False, 70.5, 'ICO']\n",
            "ICO\n",
            "[10, 12, 14]\n"
          ]
        }
      ]
    },
    {
      "cell_type": "code",
      "metadata": {
        "colab": {
          "base_uri": "https://localhost:8080/"
        },
        "id": "0_DRFomm0pyA",
        "outputId": "562fc59e-ec61-46c8-f607-c63aac432456"
      },
      "source": [
        "#Listas multi dimencionales \n",
        "bds=[ \"mysql\" , \"Oracle\" , \"BD2\" , \"Mongo\" , \"SQLite\" ]\n",
        "leng_prog = [ \"C\" , \"Java\" , \"JS\" , \"C++\" , \"C#\" , \"Python\" ]\n",
        "tecnologias = [bds , leng_prog ]\n",
        "\n",
        "print( tecnologias ) \n",
        "\n",
        "\"\"\"\n",
        "[\n",
        "    ['mysql', 'Oracle', 'BD2', 'Mongo', 'SQLite'], \n",
        "    ['C', 'Java', 'JS', 'C++', 'C#', 'Python']\n",
        "]\n",
        "\n",
        "\"\"\"\n",
        "\n",
        "print(tecnologias[1][3]) #C++\n",
        "print(tecnologias[0][4]) #SQLite\n",
        "print(tecnologias[0][-1]) #SQLite inverso\n",
        "print(tecnologias[1][2:5]) #Slicing"
      ],
      "execution_count": 22,
      "outputs": [
        {
          "output_type": "stream",
          "name": "stdout",
          "text": [
            "[['mysql', 'Oracle', 'BD2', 'Mongo', 'SQLite'], ['C', 'Java', 'JS', 'C++', 'C#', 'Python']]\n",
            "C++\n",
            "SQLite\n",
            "SQLite\n",
            "['JS', 'C++', 'C#']\n"
          ]
        }
      ]
    },
    {
      "cell_type": "markdown",
      "metadata": {
        "id": "R8oeb8Iw0tZE"
      },
      "source": [
        "# La clase List\n",
        "El tipo de dato list en realidad es una clase que tiene métodos."
      ]
    },
    {
      "cell_type": "code",
      "metadata": {
        "colab": {
          "base_uri": "https://localhost:8080/"
        },
        "id": "t6Lt31it0sX_",
        "outputId": "5da4a10b-8e89-47ff-93c8-219d8cfb4ee1"
      },
      "source": [
        "numeros = [ 100, 23, 45  ,23 , 55,1,22,101,99, 10 , 13]\n",
        "type( numeros )\n",
        "dir( numeros )\n",
        "print( numeros.sort() )\n",
        "print( numeros )\n",
        "numeros.reverse()\n",
        "print( numeros )\n",
        "#Eliminar elementos de u  arreglo: 2 formas\n",
        "#Forma 1\n",
        "#utilizando el metodo remove \n",
        "numeros.remove(55)\n",
        "print (numeros )\n",
        "\n",
        "#Forma 2  utilizando el operador del \n",
        "del numeros[3]\n",
        "print( numeros )\n",
        "\n",
        "#Append agrega numeros al final\n",
        "numeros.append(0)\n",
        "numeros.append(33)\n",
        "numeros.sort() #Ordenar\n",
        "numeros.reverse() #Mayor a menor\n",
        "print( numeros )\n",
        "numeros.insert(3, 60) #Agregar numeros\n",
        "print( numeros )\n",
        "n = numeros.pop(1) #Sacar un numero (1)\n",
        "print(n)\n",
        "print( numeros )\n",
        "\n",
        "mas_numeros = [400,500,600,700]\n",
        "numeros.extend(mas_numeros) #Junta las listas\n",
        "print( numeros )\n",
        "#numeros.clear #Limpia la lista\n",
        "#print( numeros )\n",
        "#Lista y la estructura de control FOR\n",
        "for num in numeros:\n",
        "  print( f' ---> { num } <--- ')"
      ],
      "execution_count": 23,
      "outputs": [
        {
          "output_type": "stream",
          "name": "stdout",
          "text": [
            "None\n",
            "[1, 10, 13, 22, 23, 23, 45, 55, 99, 100, 101]\n",
            "[101, 100, 99, 55, 45, 23, 23, 22, 13, 10, 1]\n",
            "[101, 100, 99, 45, 23, 23, 22, 13, 10, 1]\n",
            "[101, 100, 99, 23, 23, 22, 13, 10, 1]\n",
            "[101, 100, 99, 33, 23, 23, 22, 13, 10, 1, 0]\n",
            "[101, 100, 99, 60, 33, 23, 23, 22, 13, 10, 1, 0]\n",
            "100\n",
            "[101, 99, 60, 33, 23, 23, 22, 13, 10, 1, 0]\n",
            "[101, 99, 60, 33, 23, 23, 22, 13, 10, 1, 0, 400, 500, 600, 700]\n",
            " ---> 101 <--- \n",
            " ---> 99 <--- \n",
            " ---> 60 <--- \n",
            " ---> 33 <--- \n",
            " ---> 23 <--- \n",
            " ---> 23 <--- \n",
            " ---> 22 <--- \n",
            " ---> 13 <--- \n",
            " ---> 10 <--- \n",
            " ---> 1 <--- \n",
            " ---> 0 <--- \n",
            " ---> 400 <--- \n",
            " ---> 500 <--- \n",
            " ---> 600 <--- \n",
            " ---> 700 <--- \n"
          ]
        }
      ]
    },
    {
      "cell_type": "markdown",
      "metadata": {
        "id": "TNrVMkpI0zGj"
      },
      "source": [
        "\n",
        "# Tuplas\n",
        "Estructura de dato lineal\n",
        "\n",
        "\n",
        "Se declaran con ( )\n",
        "Son inmutables\n",
        "Usan menos espacio en memoria\n",
        "Son utiles para declarar valores de consulta\n",
        "Fuera de eso, las demas características son las mismas que las LISTAS"
      ]
    },
    {
      "cell_type": "code",
      "metadata": {
        "colab": {
          "base_uri": "https://localhost:8080/"
        },
        "id": "LxXU_wYh05a6",
        "outputId": "a30cb8e1-5102-4172-8283-044d07e7d9b4"
      },
      "source": [
        "datos_conexion = (\"123.234.145.23\", \"Juan\", \"patito123\")\n",
        "print( datos_conexion[0] )\n",
        "#datos_conexion[0] = \"17.324.12\" NO MUTABLE\n",
        "dir(datos_conexion) #index regresa el valor de donde se encuentra"
      ],
      "execution_count": 24,
      "outputs": [
        {
          "output_type": "stream",
          "name": "stdout",
          "text": [
            "123.234.145.23\n"
          ]
        },
        {
          "output_type": "execute_result",
          "data": {
            "text/plain": [
              "['__add__',\n",
              " '__class__',\n",
              " '__contains__',\n",
              " '__delattr__',\n",
              " '__dir__',\n",
              " '__doc__',\n",
              " '__eq__',\n",
              " '__format__',\n",
              " '__ge__',\n",
              " '__getattribute__',\n",
              " '__getitem__',\n",
              " '__getnewargs__',\n",
              " '__gt__',\n",
              " '__hash__',\n",
              " '__init__',\n",
              " '__init_subclass__',\n",
              " '__iter__',\n",
              " '__le__',\n",
              " '__len__',\n",
              " '__lt__',\n",
              " '__mul__',\n",
              " '__ne__',\n",
              " '__new__',\n",
              " '__reduce__',\n",
              " '__reduce_ex__',\n",
              " '__repr__',\n",
              " '__rmul__',\n",
              " '__setattr__',\n",
              " '__sizeof__',\n",
              " '__str__',\n",
              " '__subclasshook__',\n",
              " 'count',\n",
              " 'index']"
            ]
          },
          "metadata": {},
          "execution_count": 24
        }
      ]
    },
    {
      "cell_type": "markdown",
      "metadata": {
        "id": "BZVFa-Pf0-BB"
      },
      "source": [
        "# Diccionarios\n",
        "Estructura no lineal\n",
        "Formada por pares llave-valor {\"key\":valor} *Donde el valor puede ser de cualquier tipo , int, float, list, diccionario.\n",
        "NO se selecciona con [ número ] X\n",
        "Su selector es por llave (key)\n",
        "\n",
        "Son mutables"
      ]
    },
    {
      "cell_type": "code",
      "metadata": {
        "colab": {
          "base_uri": "https://localhost:8080/"
        },
        "id": "xyfFroYO1DLT",
        "outputId": "4cb57f7c-82f5-40fa-bdbc-66583cc5ccfb"
      },
      "source": [
        "persona = { \"nombre\" : \"José\", \"edad\": 19, \"estatura\" : 1.7 }\n",
        "print( persona )\n",
        "print(f\" La estatura es: {persona['estatura'] } metros\")\n",
        "\n",
        "estudiante = { \n",
        "         \"nombre\" : { \"nombres\" : [\"Juan\" , \"Jose\"],\n",
        "                      \"paterno\" : \"Perez\" ,\n",
        "                      \"materno\" : \"Garcia\" \n",
        "                     } , \n",
        "         \"edad\": 19, \n",
        "         \"estatura\" : 1.7,\n",
        "         \"carrera\" : {\n",
        "                     \"escuela\" : \"UNAM FES Aragón\",\n",
        "                     \"Carrera\" : \"ICO\",\n",
        "                     \"semestre\" : 2\n",
        "                    },\n",
        "           \"direccion\": {\n",
        "                    \"calle\" : \"Colorines\",\n",
        "                    \"num_exterior\" : 34,\n",
        "                    \"interior\" : \"apartamento B\"\n",
        "\n",
        "                      }, \n",
        "           \"telefonos\" : {\n",
        "                    \"casa\" : 55523658,\n",
        "                    \"celular\" : [\"+5255523658\",\"+5255371328\"]\n",
        "                    }\n",
        "        }\n",
        "#Ejemplo\n",
        "print(estudiante['direccion']['calle'])\n",
        "print(f\"La estatura es  es : {estudiante['estatura']}\")\n",
        "print( estudiante['telefonos']['celular'][1])\n",
        "estudiante['direccion']['calle']= 'Pancho López' #Cambia direccion\n",
        "print(estudiante['direccion'])\n",
        "estudiante['direccion']['colonia'] = 'Impulsora' #Mutable, agrega colonia a direccion\n",
        "print(estudiante['direccion'])\n",
        "#Combinar con la invocacion de métodos de los valores.\n",
        "#Mostrar el nombre del estudiante en mayúscula\n",
        "print(estudiante['nombre']['nombres'][0].upper(), estudiante['nombre']['nombres'][1].upper()) #Mayúsculas\n",
        "llaves = estudiante.keys() #Muestra las llaves del diccionario\n",
        "print(llaves)\n",
        "print('#########Llaves#########')\n",
        "\n",
        "for llave in llaves:\n",
        "  print(llave)\n",
        "  print(estudiante[llave]) #Muestra todos los datos\n",
        "\n",
        "print('##########Values##############')\n",
        "#Values() \n",
        "vals= estudiante.values()\n",
        "for val in vals:\n",
        "  print(val)\n",
        "\n",
        "print('##########Items##############')\n",
        "elems = estudiante.items()\n",
        "print(elems)\n",
        "print('#########################')\n",
        "for par in elems:\n",
        "  #print(par)\n",
        "  print(par[1])"
      ],
      "execution_count": 25,
      "outputs": [
        {
          "output_type": "stream",
          "name": "stdout",
          "text": [
            "{'nombre': 'José', 'edad': 19, 'estatura': 1.7}\n",
            " La estatura es: 1.7 metros\n",
            "Colorines\n",
            "La estatura es  es : 1.7\n",
            "+5255371328\n",
            "{'calle': 'Pancho López', 'num_exterior': 34, 'interior': 'apartamento B'}\n",
            "{'calle': 'Pancho López', 'num_exterior': 34, 'interior': 'apartamento B', 'colonia': 'Impulsora'}\n",
            "JUAN JOSE\n",
            "dict_keys(['nombre', 'edad', 'estatura', 'carrera', 'direccion', 'telefonos'])\n",
            "#########Llaves#########\n",
            "nombre\n",
            "{'nombres': ['Juan', 'Jose'], 'paterno': 'Perez', 'materno': 'Garcia'}\n",
            "edad\n",
            "19\n",
            "estatura\n",
            "1.7\n",
            "carrera\n",
            "{'escuela': 'UNAM FES Aragón', 'Carrera': 'ICO', 'semestre': 2}\n",
            "direccion\n",
            "{'calle': 'Pancho López', 'num_exterior': 34, 'interior': 'apartamento B', 'colonia': 'Impulsora'}\n",
            "telefonos\n",
            "{'casa': 55523658, 'celular': ['+5255523658', '+5255371328']}\n",
            "##########Values##############\n",
            "{'nombres': ['Juan', 'Jose'], 'paterno': 'Perez', 'materno': 'Garcia'}\n",
            "19\n",
            "1.7\n",
            "{'escuela': 'UNAM FES Aragón', 'Carrera': 'ICO', 'semestre': 2}\n",
            "{'calle': 'Pancho López', 'num_exterior': 34, 'interior': 'apartamento B', 'colonia': 'Impulsora'}\n",
            "{'casa': 55523658, 'celular': ['+5255523658', '+5255371328']}\n",
            "##########Items##############\n",
            "dict_items([('nombre', {'nombres': ['Juan', 'Jose'], 'paterno': 'Perez', 'materno': 'Garcia'}), ('edad', 19), ('estatura', 1.7), ('carrera', {'escuela': 'UNAM FES Aragón', 'Carrera': 'ICO', 'semestre': 2}), ('direccion', {'calle': 'Pancho López', 'num_exterior': 34, 'interior': 'apartamento B', 'colonia': 'Impulsora'}), ('telefonos', {'casa': 55523658, 'celular': ['+5255523658', '+5255371328']})])\n",
            "#########################\n",
            "{'nombres': ['Juan', 'Jose'], 'paterno': 'Perez', 'materno': 'Garcia'}\n",
            "19\n",
            "1.7\n",
            "{'escuela': 'UNAM FES Aragón', 'Carrera': 'ICO', 'semestre': 2}\n",
            "{'calle': 'Pancho López', 'num_exterior': 34, 'interior': 'apartamento B', 'colonia': 'Impulsora'}\n",
            "{'casa': 55523658, 'celular': ['+5255523658', '+5255371328']}\n"
          ]
        }
      ]
    },
    {
      "cell_type": "code",
      "metadata": {
        "colab": {
          "base_uri": "https://localhost:8080/"
        },
        "id": "vcx8ar6r1RTU",
        "outputId": "dc0f8f7b-0c5b-4054-8cf6-6b122f183613"
      },
      "source": [
        "dir(estudiante)\n"
      ],
      "execution_count": 26,
      "outputs": [
        {
          "output_type": "execute_result",
          "data": {
            "text/plain": [
              "['__class__',\n",
              " '__contains__',\n",
              " '__delattr__',\n",
              " '__delitem__',\n",
              " '__dir__',\n",
              " '__doc__',\n",
              " '__eq__',\n",
              " '__format__',\n",
              " '__ge__',\n",
              " '__getattribute__',\n",
              " '__getitem__',\n",
              " '__gt__',\n",
              " '__hash__',\n",
              " '__init__',\n",
              " '__init_subclass__',\n",
              " '__iter__',\n",
              " '__le__',\n",
              " '__len__',\n",
              " '__lt__',\n",
              " '__ne__',\n",
              " '__new__',\n",
              " '__reduce__',\n",
              " '__reduce_ex__',\n",
              " '__repr__',\n",
              " '__setattr__',\n",
              " '__setitem__',\n",
              " '__sizeof__',\n",
              " '__str__',\n",
              " '__subclasshook__',\n",
              " 'clear',\n",
              " 'copy',\n",
              " 'fromkeys',\n",
              " 'get',\n",
              " 'items',\n",
              " 'keys',\n",
              " 'pop',\n",
              " 'popitem',\n",
              " 'setdefault',\n",
              " 'update',\n",
              " 'values']"
            ]
          },
          "metadata": {},
          "execution_count": 26
        }
      ]
    },
    {
      "cell_type": "markdown",
      "metadata": {
        "id": "lvnoCIvs1WVR"
      },
      "source": [
        "# Funciones 2a parte (El reencuentro)\n",
        "Declarar funciones combinandola con tuplas\n",
        "Se pueden recibir una lista de argumentos dinámica que se almacenará en una tupla. Para ello se utiliza un operador especial que es '*' en la declaración de la función.\n",
        "\n",
        "\n",
        "def mi_funcion( *algo( ):\n",
        "   print(algo)"
      ]
    },
    {
      "cell_type": "code",
      "metadata": {
        "colab": {
          "base_uri": "https://localhost:8080/"
        },
        "id": "IvZaykEN1Y3l",
        "outputId": "c892f284-99ba-48ff-9c83-71a8c627e29f"
      },
      "source": [
        "def mi_funcion( *argumentos):\n",
        "  print(argumentos)\n",
        "\n",
        "mi_funcion(1,2,3 , \"Hola\", 3.1416)\n",
        "\n",
        "###Ejemplo Suma\n",
        "def suma_v2( *vals ):\n",
        "  suma = 0\n",
        "  for valor in vals:\n",
        "    suma += valor \n",
        "  print(suma)\n",
        "\n",
        "suma_v2(5,4 , 2,3,4,5,6,6,6,6,6,6,6,6)"
      ],
      "execution_count": 27,
      "outputs": [
        {
          "output_type": "stream",
          "name": "stdout",
          "text": [
            "(1, 2, 3, 'Hola', 3.1416)\n",
            "71\n"
          ]
        }
      ]
    },
    {
      "cell_type": "markdown",
      "metadata": {
        "id": "9559EfdC1bvt"
      },
      "source": [
        "\n",
        "# Declarar funciones declarandolas con diccionarios\n",
        "def mi_funcion( **argumentos ):\n",
        "    print(argumentos) #argumentos es un diccionario"
      ]
    },
    {
      "cell_type": "code",
      "metadata": {
        "colab": {
          "base_uri": "https://localhost:8080/"
        },
        "id": "J1XKFdD_1ecF",
        "outputId": "a9a965d4-bd3b-4ac8-c20f-2d4426709ad7"
      },
      "source": [
        "def mi_funcion( **argumentos ):\n",
        "  print(argumentos)\n",
        "\n",
        "mi_funcion( nombre ='Jose', edad=20 )"
      ],
      "execution_count": 28,
      "outputs": [
        {
          "output_type": "stream",
          "name": "stdout",
          "text": [
            "{'nombre': 'Jose', 'edad': 20}\n"
          ]
        }
      ]
    },
    {
      "cell_type": "markdown",
      "metadata": {
        "id": "BCponKCt1jzJ"
      },
      "source": [
        "# Módulos\n",
        "Un módulo en Python es equivalente aun package en Java o un archivo .H en lenguaje C.\n",
        "\n",
        "en él, declaras códigos que quieras llamar varias veces, este código debe estar empaquetado principalmente en funciones"
      ]
    },
    {
      "cell_type": "code",
      "metadata": {
        "id": "YHgNh3PN1oys"
      },
      "source": [
        "import mimodulo\n",
        "\n",
        "mimodulo.mi_suma( 3 , 4)\n",
        "\n",
        "mimodulo.mi_print(\"hola k ase\")\n",
        "mimodulo.al_reves(\"hola k ase\")"
      ],
      "execution_count": null,
      "outputs": []
    },
    {
      "cell_type": "code",
      "metadata": {
        "id": "8T3xByie1qf9"
      },
      "source": [
        "\n",
        "from mimodulo import mi_print\n",
        "mi_print(\"Hola de nuevo mi chavo\")\n",
        "\n",
        "mimodulo.al_reves(\"Hola de nuevo mi chavo\")"
      ],
      "execution_count": null,
      "outputs": []
    },
    {
      "cell_type": "code",
      "metadata": {
        "id": "PkKxVa-d1wYX"
      },
      "source": [
        "#Chalk\n",
        "import sys\n",
        "#dir(sys)\n",
        "print( sys.path ) #Se configura en que carpeta buscar códigos de módulos"
      ],
      "execution_count": null,
      "outputs": []
    },
    {
      "cell_type": "code",
      "metadata": {
        "id": "aJ062lST1zl1"
      },
      "source": [
        "# !ls #Muestra directorio\n",
        "!pip install simple-chalk #Descargar repositorios del módulo central (De Python)"
      ],
      "execution_count": null,
      "outputs": []
    },
    {
      "cell_type": "code",
      "metadata": {
        "id": "jVigI-1k12HJ"
      },
      "source": [
        "from simple_chalk import *\n",
        "print(chalk.blue(\"Texto azul\"))\n",
        "whyNot = green.bgWhite.red.bgGrey\n",
        "print(whyNot(\"this is red text with a grey background\"))\n",
        "verde_sobre_negro = bgBlack.green\n",
        "print(verde_sobre_negro(\"test\"))"
      ],
      "execution_count": null,
      "outputs": []
    },
    {
      "cell_type": "code",
      "metadata": {
        "id": "lIvG5sNK145o"
      },
      "source": [
        "!cat datos.dat"
      ],
      "execution_count": null,
      "outputs": []
    },
    {
      "cell_type": "markdown",
      "metadata": {
        "id": "G60b1Oyd16D9"
      },
      "source": [
        "# Archivos\n",
        "Para abrir un archivo se utiliza la función open('nombre','AB')\n",
        "\n",
        "nombre = La ruta del archivo A = modo de apertura ( W, r, a, ...) B = Formato t (texto) o b (binario)\n",
        "\n",
        "Para leer tenemos las funciones:\n",
        "\n",
        "read()\n",
        "readine()\n",
        "readlines()"
      ]
    },
    {
      "cell_type": "code",
      "metadata": {
        "id": "Ztco_-XM2AIs"
      },
      "source": [
        "\"\"\"\n",
        "1,2,3,4,5,6,7\n",
        "8,9,10\n",
        "11,12\n",
        "13\n",
        "\"\"\"\n",
        "archivo = open('datos.dat','rt')\n",
        "info = archivo.read() #READ() Leyo el archivo y lo regreso almacenandolo en info\n",
        "print( info )\n",
        "\n",
        "#readline()\n",
        "print('----------READLINE()-----------') \n",
        "archivo = open('datos.dat','rt')\n",
        "info = archivo.readline() #Lee la variable hasta el primer salto de linea\n",
        "print( info)\n",
        "info = archivo.readline()\n",
        "print( info) \n",
        "\n",
        "#readlines()\n",
        "print('-------READLINES------')\n",
        "archivo = open('datos.dat','rt')\n",
        "info = archivo.readlines()\n",
        "print(info)\n",
        "for index in range(len(info)):\n",
        "  info[index] = info[index].strip()\n",
        "print(info)\n",
        "\n",
        "numeros = []\n",
        "\n",
        "for grupo in info:  #for each\n",
        "  for numero in grupo.split(','):\n",
        "    numeros.append(int(numero))\n",
        "print(numeros)\n",
        "\n",
        "suma = 0\n",
        "for num in numeros:\n",
        "  suma += num\n",
        "\n",
        "print(suma)"
      ],
      "execution_count": null,
      "outputs": []
    },
    {
      "cell_type": "markdown",
      "metadata": {
        "id": "m9xPbsOx2DOW"
      },
      "source": [
        "# Programación Orientada a Objetos\n",
        "La POO es un paradigma no soportado priginalmente por Python, Python aneja el paradigma Imperativo.\n",
        "\n",
        "Python simula la POO con la declaración de clases y haciendo referencia a un objeto de forma circular. self en python es equivalente a this de java\n",
        "\n",
        "Forma 1:\n",
        "class <Nombre de la clase>:\n",
        "   <definición de la clase>\n",
        "2.Forma 2:\n",
        "class <nombre de la clase>(<Super clase>):\n",
        "   <Definicion del cuerpo de la clase>\n",
        "La declaración de atributos se realiza por medio del constructor.\n",
        "\n",
        "Para hacer encapsulamiento de métodos o atributos se debe poner__(DOBLE GUION BAJO) previo a la declaración del atributo o método"
      ]
    },
    {
      "cell_type": "code",
      "metadata": {
        "id": "wD4bV43U2If6"
      },
      "source": [
        "class Persona:\n",
        "   def __init__( self  , n , e, est ):\n",
        "     self.__nombre = n\n",
        "     self.__edad = e\n",
        "     self.__estatura = est\n",
        "   def to_string( self ):\n",
        "      return \"Nombre: \" + self.__nombre +\" Edad: \"+ str(self.__edad) + \" Estatura: \" + str(self.__estatura)\n",
        "\n",
        "   def set_estatura( self , nueva_est ):\n",
        "     if nueva_est > 0.10 and nueva_est < 2.5 :\n",
        "       self.__estatura = nueva_est\n",
        "     else:\n",
        "       print(\"Error: Esa estatura no es posible\")\n",
        "  \n",
        "   def get__estatura( self ):\n",
        "     return self.__estatura"
      ],
      "execution_count": 32,
      "outputs": []
    },
    {
      "cell_type": "code",
      "metadata": {
        "colab": {
          "base_uri": "https://localhost:8080/"
        },
        "id": "E4oyShCg2Lv9",
        "outputId": "54156ab3-609c-4dd4-8257-15ccb5c76d25"
      },
      "source": [
        "per = Persona(\"Jose\", 19, 1.7)\n",
        "print(per.to_string())\n",
        "\n",
        "#Ancapsulamiento\n",
        "\n",
        "per.nombre = \"Pedro\" #Esto no se recomienda, se puede romper la lógica como en la línea 9, además de que es fácilmente modificable.\n",
        "print(per.to_string())\n",
        "\n",
        "#per.estatura = 3.9\n",
        "#print(per.to_string())\n",
        "per.set_estatura(1.9)\n",
        "print(per.to_string())\n",
        "\n",
        "print(\"Estatura:\" , end=\"\")\n",
        "#print( per.__estatura )\n",
        "print( per.get__estatura())"
      ],
      "execution_count": 33,
      "outputs": [
        {
          "output_type": "stream",
          "name": "stdout",
          "text": [
            "Nombre: Jose Edad: 19 Estatura: 1.7\n",
            "Nombre: Jose Edad: 19 Estatura: 1.7\n",
            "Nombre: Jose Edad: 19 Estatura: 1.9\n",
            "Estatura:1.9\n"
          ]
        }
      ]
    },
    {
      "cell_type": "code",
      "metadata": {
        "id": "6yossekv2O1e"
      },
      "source": [
        "#Herencia\n",
        "class Estudiante( Persona ):\n",
        "  def __init__( self , nc, nombre, edad, est ):\n",
        "    self.__num_cta = nc\n",
        "    super().__init__(nombre,edad,est)\n",
        "    \n",
        "\n",
        "  def to_string( self ):\n",
        "    return super().to_string() + \" Numero de cuenta: \" + self.__num_cta"
      ],
      "execution_count": 34,
      "outputs": []
    },
    {
      "cell_type": "code",
      "metadata": {
        "colab": {
          "base_uri": "https://localhost:8080/"
        },
        "id": "yK1OV1pn2RD6",
        "outputId": "90b3ffe6-bef7-4680-d130-df825d02c57e"
      },
      "source": [
        "est = Estudiante( \"212020202\", \"José\",18,1.7 )\n",
        "print( est.to_string() )"
      ],
      "execution_count": 35,
      "outputs": [
        {
          "output_type": "stream",
          "name": "stdout",
          "text": [
            "Nombre: José Edad: 18 Estatura: 1.7 Numero de cuenta: 212020202\n"
          ]
        }
      ]
    }
  ]
}