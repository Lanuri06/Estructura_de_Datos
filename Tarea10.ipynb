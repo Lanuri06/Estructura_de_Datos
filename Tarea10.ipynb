{
  "nbformat": 4,
  "nbformat_minor": 0,
  "metadata": {
    "colab": {
      "name": "Tarea10.ipynb",
      "provenance": [],
      "authorship_tag": "ABX9TyMb8d9dE01zHW1dsf8P1e1F",
      "include_colab_link": true
    },
    "kernelspec": {
      "name": "python3",
      "display_name": "Python 3"
    },
    "language_info": {
      "name": "python"
    }
  },
  "cells": [
    {
      "cell_type": "markdown",
      "metadata": {
        "id": "view-in-github",
        "colab_type": "text"
      },
      "source": [
        "<a href=\"https://colab.research.google.com/github/Lanuri06/Estructura_de_Datos/blob/main/Tarea10.ipynb\" target=\"_parent\"><img src=\"https://colab.research.google.com/assets/colab-badge.svg\" alt=\"Open In Colab\"/></a>"
      ]
    },
    {
      "cell_type": "code",
      "metadata": {
        "id": "Fi03bEZ8A2VM"
      },
      "source": [
        "class Queue:\n",
        "    def __init__( self ):\n",
        "        self.data =[]\n",
        "\n",
        "    def is_empty( self):\n",
        "        return len(self.data)==0  \n",
        "    \n",
        "    def enqueue( self, value ):\n",
        "        self.data.append(value)\n",
        "    \n",
        "    def dequeue( self):\n",
        "        return self.data.pop()\n",
        "    \n",
        "    def length( self):\n",
        "        return len(self.data)\n",
        "    \n",
        "    def to_string( self):\n",
        "        for elem in self.data:\n",
        "            print(f'|{ elem }| <-- ', end=\"\")\n",
        "        print(\"\\n\")"
      ],
      "execution_count": 1,
      "outputs": []
    },
    {
      "cell_type": "code",
      "metadata": {
        "id": "qlYcvpkAA6U0"
      },
      "source": [
        "class PriorityQueue:\n",
        "    def __init__(self):\n",
        "        self.data=[]\n",
        "        self.index=[]\n",
        "    \n",
        "    def is_empty(self):\n",
        "        return len(self.data)==0 \n",
        "    \n",
        "    def length(self):\n",
        "        return len(self.data)\n",
        "\n",
        "    def enqueue(self,prioridad,elem):\n",
        "        if len(self.data)==0:\n",
        "            self.data.append(elem)\n",
        "            self.index.append(prioridad)\n",
        "        elif prioridad>=self.index[-1]:\n",
        "            self.data.append(elem)\n",
        "            self.index.append(prioridad)\n",
        "        else:\n",
        "            cont=0\n",
        "            for elemento in self.index:\n",
        "                if prioridad>=elemento:\n",
        "                    cont+=1\n",
        "            self.data.insert(cont, elem)\n",
        "            self.index.insert(cont, prioridad)\n",
        "\n",
        "    def dequeue(self):\n",
        "        eliminar=self.index.pop(0)\n",
        "        return self.data.pop(0)\n",
        "    \n",
        "    def to_string(self):\n",
        "        cont=0\n",
        "        for elem in self.data:\n",
        "            print(f'|{self.index[cont], elem}|<--', end=\"\")\n",
        "            cont+=1"
      ],
      "execution_count": 2,
      "outputs": []
    },
    {
      "cell_type": "code",
      "metadata": {
        "id": "gAPXSJZTA-hF"
      },
      "source": [
        "class BoundedPriorityQueue:\n",
        "    def __init__(self, niveles):\n",
        "        self.data=[Queue()for x in range(niveles)]\n",
        "        self.tamaño=0\n",
        "    \n",
        "    def is_empty(self):\n",
        "        return self.tamaño ==0\n",
        "    \n",
        "    def length(self):\n",
        "        return self.tamaño\n",
        "\n",
        "    def enqueue(self, prioridad, elem):\n",
        "        if prioridad<len(self.data) and prioridad >=0:\n",
        "            self.data[prioridad].enqueue(elem)\n",
        "            self.tamaño+=1\n",
        "        else:\n",
        "            print(f'Se encuentra fuera del rango |{prioridad},{elem}| por lo tanto no es posible insertar a la cola el elemento.')\n",
        "    \n",
        "    def dequeue(self):\n",
        "        if self.is_empty():\n",
        "            print(\"La cola está vacía, no hay elementos en ella.\")\n",
        "        else:\n",
        "            cont = len(self.data)-1\n",
        "            while cont>=0:\n",
        "                if self.data[cont].is_empty():\n",
        "                    cont-=1\n",
        "                else:\n",
        "                    break\n",
        "            self.tamaño-=1\n",
        "            return self.data[cont].dequeue()\n",
        "\n",
        "    def to_string(self):\n",
        "        for index in range(len(self.data)):\n",
        "            if self.data[index].is_empty():\n",
        "                pass\n",
        "            else:\n",
        "                self.data[index].to_string()\n",
        "        print(\"\")"
      ],
      "execution_count": 3,
      "outputs": []
    },
    {
      "cell_type": "code",
      "metadata": {
        "id": "Wedzyq6wBAtn",
        "outputId": "8b892fdb-c40e-4307-88ea-1137eb53e6e7",
        "colab": {
          "base_uri": "https://localhost:8080/"
        }
      },
      "source": [
        "cola = BoundedPriorityQueue(7)\n",
        "print(\"¿Esta vacío?: \", cola.is_empty())\n",
        "print(\"Número de elementos: \", cola.length())\n",
        "#Como si se tratase para elecciones o votar\n",
        "cola.enqueue(1,\"Personas con dificultad para moverse.\")\n",
        "cola.enqueue(2,\"Personas de la 3ra Edad.\")\n",
        "cola.enqueue(3,\"Mujeres embarazadas.\")\n",
        "cola.enqueue(4,\"Personas con problemas de salud.\")\n",
        "cola.enqueue(5,\"Adultos Normales\")\n",
        "cola.enqueue(6,\"Jovenes Adultos\")\n",
        "\n",
        "\n",
        "print(\"Número de elementos: \",cola.length())\n",
        "print(\"Esta vacío?: \",cola.is_empty())\n",
        "cola.to_string()\n",
        "print(cola.dequeue())\n",
        "cola.to_string()\n",
        "print(\"Número de elementos=: \",cola.length())"
      ],
      "execution_count": 4,
      "outputs": [
        {
          "output_type": "stream",
          "name": "stdout",
          "text": [
            "¿Esta vacío?:  True\n",
            "Número de elementos:  0\n",
            "Número de elementos:  6\n",
            "Esta vacío?:  False\n",
            "|Personas con dificultad para moverse.| <-- \n",
            "\n",
            "|Personas de la 3ra Edad.| <-- \n",
            "\n",
            "|Mujeres embarazadas.| <-- \n",
            "\n",
            "|Personas con problemas de salud.| <-- \n",
            "\n",
            "|Adultos Normales| <-- \n",
            "\n",
            "|Jovenes Adultos| <-- \n",
            "\n",
            "\n",
            "Jovenes Adultos\n",
            "|Personas con dificultad para moverse.| <-- \n",
            "\n",
            "|Personas de la 3ra Edad.| <-- \n",
            "\n",
            "|Mujeres embarazadas.| <-- \n",
            "\n",
            "|Personas con problemas de salud.| <-- \n",
            "\n",
            "|Adultos Normales| <-- \n",
            "\n",
            "\n",
            "Número de elementos=:  5\n"
          ]
        }
      ]
    }
  ]
}