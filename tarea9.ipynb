{
  "nbformat": 4,
  "nbformat_minor": 0,
  "metadata": {
    "colab": {
      "name": "tarea9.ipynb",
      "provenance": [],
      "authorship_tag": "ABX9TyPix93if4LVGUXG2JNZkfOO",
      "include_colab_link": true
    },
    "kernelspec": {
      "name": "python3",
      "display_name": "Python 3"
    },
    "language_info": {
      "name": "python"
    }
  },
  "cells": [
    {
      "cell_type": "markdown",
      "metadata": {
        "id": "view-in-github",
        "colab_type": "text"
      },
      "source": [
        "<a href=\"https://colab.research.google.com/github/Lanuri06/Estructura_de_Datos/blob/main/tarea9.ipynb\" target=\"_parent\"><img src=\"https://colab.research.google.com/assets/colab-badge.svg\" alt=\"Open In Colab\"/></a>"
      ]
    },
    {
      "cell_type": "code",
      "metadata": {
        "id": "bbCYumJKkpT7"
      },
      "source": [
        "class StackADT:\n",
        "    def __init__(self):\n",
        "        self.__data = list()\n",
        "\n",
        "    def is_empty(self):\n",
        "        return len(self.__data) == 0\n",
        "    \n",
        "    def get_length(self):\n",
        "        return len(self.__data)\n",
        "\n",
        "    def pop(self):\n",
        "        if self.is_empty():\n",
        "            print(\"Pila vacíar\")\n",
        "        else:\n",
        "            return self.__data.pop()\n",
        "\n",
        "    def peek(self):\n",
        "        if self.is_empty():\n",
        "            print(\"Pila vacía\")\n",
        "        else :\n",
        "            return self.__data[-1]\n",
        "    \n",
        "    def push(self, value):\n",
        "        self.__data.append(value)\n",
        "\n",
        "    def to_string(self):\n",
        "        for item in self.__data[::-1]:\n",
        "            print(f'| { item } |')"
      ],
      "execution_count": 1,
      "outputs": []
    },
    {
      "cell_type": "code",
      "metadata": {
        "colab": {
          "base_uri": "https://localhost:8080/"
        },
        "id": "4eVBWcPdkuXt",
        "outputId": "81208183-6dfe-42da-895e-898bcce86f04"
      },
      "source": [
        "entrada= open('texto.txt', 'rt') \n",
        "codigo = entrada.read()\n",
        "pilaControl=StackADT()\n",
        "\n",
        "pilaControl.push(\"#\") \n",
        "\n",
        "for letra in codigo:\n",
        "    if letra == '{':\n",
        "        pilaControl.push('{')  \n",
        "        if pilaControl.peek() == '#':\n",
        "            pilaControl.push('{')\n",
        "            break \n",
        "        else:\n",
        "            basura = pilaControl.pop()\n",
        "    elif letra == '(':\n",
        "        pilaControl.push('(') \n",
        "        if pilaControl.peek() == '#':\n",
        "            pilaControl.push('(')\n",
        "            break \n",
        "        else:\n",
        "            basura = pilaControl.pop() \n",
        "    else:\n",
        "        pass\n",
        " \n",
        "if pilaControl.peek() == '#':\n",
        "    print(\"el código proporcionado se encuentra balanceado\")\n",
        "else :\n",
        "    print(\"el código no se encuentra balanceado en llaves { y } o en paréntesis ( y ) de manera correcta\")"
      ],
      "execution_count": 2,
      "outputs": [
        {
          "output_type": "stream",
          "name": "stdout",
          "text": [
            "el código proporcionado se encuentra balanceado\n"
          ]
        }
      ]
    }
  ]
}