{
  "nbformat": 4,
  "nbformat_minor": 0,
  "metadata": {
    "colab": {
      "name": "Colas.ipynb",
      "provenance": [],
      "authorship_tag": "ABX9TyMREmTtWzLcaLFW/5BuwbGD",
      "include_colab_link": true
    },
    "kernelspec": {
      "name": "python3",
      "display_name": "Python 3"
    },
    "language_info": {
      "name": "python"
    }
  },
  "cells": [
    {
      "cell_type": "markdown",
      "metadata": {
        "id": "view-in-github",
        "colab_type": "text"
      },
      "source": [
        "<a href=\"https://colab.research.google.com/github/Lanuri06/Estructura_de_Datos/blob/main/Colas.ipynb\" target=\"_parent\"><img src=\"https://colab.research.google.com/assets/colab-badge.svg\" alt=\"Open In Colab\"/></a>"
      ]
    },
    {
      "cell_type": "code",
      "metadata": {
        "id": "RScvCjt9XYG0"
      },
      "source": [
        "class Queue:\n",
        "  def __init__(self):\n",
        "    self.data = []\n",
        "\n",
        "  def is_empty(self):\n",
        "    return len(self.data) == 0\n",
        "  \n",
        "  def length( self):\n",
        "    return len( self.data)\n",
        "  \n",
        "  def enqueue( self,value):\n",
        "    self.data.append(value)\n",
        "  \n",
        "  def dequeue( self):\n",
        "    return self.data.pop(0)\n",
        "\n",
        "  def to_string ( self):\n",
        "    for elem in self.data:\n",
        "      print(f\"| {elem} | <--\", end=\"\")\n",
        "    print(\"\")"
      ],
      "execution_count": 3,
      "outputs": []
    },
    {
      "cell_type": "code",
      "metadata": {
        "colab": {
          "base_uri": "https://localhost:8080/"
        },
        "id": "dfbNJqFvXg4r",
        "outputId": "1b56ed2a-fb1b-4436-dec2-291e36e4eab9"
      },
      "source": [
        "cola = Queue()\n",
        "print(\"Esta vacio?:\",cola.is_empty())\n",
        "print(\"numero de elementos = \", cola.length())\n",
        "cola.enqueue(10)\n",
        "cola.enqueue(20)\n",
        "cola.enqueue(30)\n",
        "print(\"Esta vacio?:\",cola.is_empty())\n",
        "print(\"numero de elementos = \", cola.length())\n",
        "cola.to_string()\n",
        "siguiente = cola.dequeue()\n",
        "cola.enqueue(40)\n",
        "cola.enqueue(50)\n",
        "cola.enqueue(60)\n",
        "print(\"Atendiendo a:\",siguiente)\n",
        "cola.to_string()"
      ],
      "execution_count": 4,
      "outputs": [
        {
          "output_type": "stream",
          "name": "stdout",
          "text": [
            "Esta vacio?: True\n",
            "numero de elementos =  0\n",
            "Esta vacio?: False\n",
            "numero de elementos =  3\n",
            "| 10 | <--| 20 | <--| 30 | <--\n",
            "Atendiendo a: 10\n",
            "| 20 | <--| 30 | <--| 40 | <--| 50 | <--| 60 | <--\n"
          ]
        }
      ]
    }
  ]
}