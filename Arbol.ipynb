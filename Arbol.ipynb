{
  "nbformat": 4,
  "nbformat_minor": 0,
  "metadata": {
    "colab": {
      "name": "Arbol.ipynb",
      "provenance": [],
      "authorship_tag": "ABX9TyM55i23zM8NGNZRvt3rEddL",
      "include_colab_link": true
    },
    "kernelspec": {
      "name": "python3",
      "display_name": "Python 3"
    },
    "language_info": {
      "name": "python"
    }
  },
  "cells": [
    {
      "cell_type": "markdown",
      "metadata": {
        "id": "view-in-github",
        "colab_type": "text"
      },
      "source": [
        "<a href=\"https://colab.research.google.com/github/Lanuri06/Estructura_de_Datos/blob/main/Arbol.ipynb\" target=\"_parent\"><img src=\"https://colab.research.google.com/assets/colab-badge.svg\" alt=\"Open In Colab\"/></a>"
      ]
    },
    {
      "cell_type": "code",
      "metadata": {
        "id": "tu8U1ejnerH6"
      },
      "source": [
        "class NodoBinario:\n",
        "    def __init__( self, value , left=None , right = None ):\n",
        "        self.data = value\n",
        "        self.left = left\n",
        "        self.right = right\n",
        "\n",
        "class NodoTernario:\n",
        "    def __init__( self, value , left=None , center=None , right = None ):\n",
        "        self.data = value\n",
        "        self.left = left\n",
        "        self.center = center\n",
        "        self.right = right"
      ],
      "execution_count": 1,
      "outputs": []
    },
    {
      "cell_type": "code",
      "metadata": {
        "id": "jtlYJfFmet8f"
      },
      "source": [
        "arbol1 = NodoBinario( \"R\" , NodoBinario(\"C\") , NodoBinario(\"H\") )\n",
        "print( arbol1.right.data)\n",
        "\n",
        "arbol2 = NodoTernario( 4 , NodoTernario( 3 , NodoTernario(5 , left=NodoTernario(2) ) \\\n",
        "        , NodoTernario(5) , NodoTernario(2) )  , None , NodoTernario(5) )\n",
        "print( arbol2.left.right.data)\n",
        "print( arbol2.data)\n",
        "print( arbol2.left.center.data)\n",
        "print( arbol2.right.left)\n",
        "print( arbol2.left.left.left.data)\n",
        "print(\"----- sin usar la palabra print ----\")\n",
        "ejemplo = arbol2.left.left.left.data\n",
        "print(ejemplo)\n",
        "print(\"---- otra forma ----\")\n",
        "aux = arbol2\n",
        "while( aux.left != None):\n",
        "    aux = aux.left\n",
        "print( aux.data )"
      ],
      "execution_count": null,
      "outputs": []
    }
  ]
}